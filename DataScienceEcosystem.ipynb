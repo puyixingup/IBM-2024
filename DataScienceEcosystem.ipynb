{
 "cells": [
  {
   "cell_type": "markdown",
   "id": "d4e99732-fc89-4cdb-bad6-1a8bbcf57705",
   "metadata": {},
   "source": [
    "# Data Science Tools and Ecosystem"
   ]
  },
  {
   "cell_type": "markdown",
   "id": "4d982ce3-5268-4208-8eb0-e692623dca3c",
   "metadata": {},
   "source": [
    "In this notebook, Data Science Tools and Ecosystem are summarized."
   ]
  },
  {
   "cell_type": "markdown",
   "id": "69c6c9cd-27df-40bb-b2c0-1884ef63eae9",
   "metadata": {},
   "source": [
    "Some of the popular languages that Data Scientists use are:\n",
    "1. Python\n",
    "2. R\n",
    "3. SQL\n",
    "4. Julia"
   ]
  },
  {
   "cell_type": "markdown",
   "id": "359da754-e276-4e46-ba31-fcb1225c6a55",
   "metadata": {},
   "source": [
    "Some of the commonly used libraries used by Data Scientists include:\n",
    "1. Pandas\n",
    "2. Numpy\n",
    "3. Scipy"
   ]
  },
  {
   "cell_type": "markdown",
   "id": "d9a512fe-96c3-484b-8073-4cc469800726",
   "metadata": {},
   "source": [
    "**Objectives:**\n",
    "# List popular languages for Data Science"
   ]
  },
  {
   "cell_type": "markdown",
   "id": "a0417a99-a5af-4599-adca-041ee962fd60",
   "metadata": {},
   "source": [
    "|Data Science Tools|\n",
    "|---|\n",
    "|Jupyter|\n",
    "|Rstudio|\n",
    "|Mysql Moorkbench|"
   ]
  },
  {
   "cell_type": "markdown",
   "id": "612bca49-3f34-4801-b1bf-a23d087de689",
   "metadata": {},
   "source": [
    "### Below are a few examples of evaluating arithmetic expressions in Python"
   ]
  },
  {
   "cell_type": "code",
   "execution_count": 1,
   "id": "992f9d2a-186d-4d30-a22f-28c3126c5c83",
   "metadata": {},
   "outputs": [
    {
     "data": {
      "text/plain": [
       "17"
      ]
     },
     "execution_count": 1,
     "metadata": {},
     "output_type": "execute_result"
    }
   ],
   "source": [
    "#This a simple arithmetic expression to mutiply then add integers\n",
    "(3*4)+5"
   ]
  },
  {
   "cell_type": "code",
   "execution_count": 2,
   "id": "ed3f11a2-4b38-4ffd-9d1b-2a3a4b947d87",
   "metadata": {},
   "outputs": [
    {
     "data": {
      "text/plain": [
       "3.3333333333333335"
      ]
     },
     "execution_count": 2,
     "metadata": {},
     "output_type": "execute_result"
    }
   ],
   "source": [
    "#This will convert 200 minutes to hours by diving by 60\n",
    "200/60"
   ]
  },
  {
   "cell_type": "markdown",
   "id": "6b0b0045-3cfc-4a05-bb17-ac4499507887",
   "metadata": {},
   "source": [
    "**Objectives:**\n",
    "# List popular languages for Data Science\n",
    "# List libraries for Data Science\r",
    "# List Tools for Data Science\n",
    "\n"
   ]
  },
  {
   "cell_type": "markdown",
   "id": "38b0628a-c143-4c25-862a-f0cf09923bb1",
   "metadata": {},
   "source": [
    "## Author\n",
    "Yuxin Sun"
   ]
  },
  {
   "cell_type": "code",
   "execution_count": null,
   "id": "072f197f-f386-45ea-93c1-d72172f20e06",
   "metadata": {},
   "outputs": [],
   "source": []
  }
 ],
 "metadata": {
  "kernelspec": {
   "display_name": "Python 3 (ipykernel)",
   "language": "python",
   "name": "python3"
  },
  "language_info": {
   "codemirror_mode": {
    "name": "ipython",
    "version": 3
   },
   "file_extension": ".py",
   "mimetype": "text/x-python",
   "name": "python",
   "nbconvert_exporter": "python",
   "pygments_lexer": "ipython3",
   "version": "3.11.7"
  }
 },
 "nbformat": 4,
 "nbformat_minor": 5
}
